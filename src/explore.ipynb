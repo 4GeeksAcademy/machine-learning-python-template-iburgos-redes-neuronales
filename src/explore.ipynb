{
    "cells": [
        {
            "cell_type": "markdown",
            "metadata": {},
            "source": [
                "# Deep Learning"
            ]
        },
        {
            "cell_type": "markdown",
            "metadata": {},
            "source": [
                "Cargar librerías\n",
                "Importa las librerías necesarias para procesamiento de imágenes, creación de la CNN y división de datos.\n",
                "\n",
                "Definir carpeta de imágenes\n",
                "Se indica la ruta donde están las imágenes de gatos y perros.\n",
                "\n",
                "Cargar y procesar imágenes\n",
                "Lee cada imagen .jpg, la redimensiona a 128x128, la normaliza y asigna etiqueta (0=gato, 1=perro).\n",
                "\n",
                "Convertir a arrays\n",
                "Convierte las listas de imágenes y etiquetas a arrays de numpy y aplica one-hot encoding a las etiquetas."
            ]
        },
        {
            "cell_type": "code",
            "execution_count": null,
            "metadata": {},
            "outputs": [],
            "source": [
                "import os\n",
                "import cv2\n",
                "import numpy as np\n",
                "from tensorflow.keras.models import Sequential\n",
                "from tensorflow.keras.layers import Conv2D, MaxPool2D, Flatten, Dense, Dropout\n",
                "from tensorflow.keras.utils import to_categorical\n",
                "from sklearn.model_selection import train_test_split\n",
                "from tensorflow.keras.callbacks import EarlyStopping, ModelCheckpoint\n",
                "\n",
                "\n",
                "folder = r\"C:\\Users\\isaac\\Downloads\\dogs-vs-cats\\dogs-vs-cats\\train\"\n",
                "\n",
                "images = []\n",
                "labels = []\n",
                "\n",
                "for filename in os.listdir(folder):\n",
                "    if filename.endswith(\".jpg\"):\n",
                "        img_path = os.path.join(folder, filename)\n",
                "        img = cv2.imread(img_path)\n",
                "        img = cv2.resize(img, (128,128))  # Reducción a 128x128\n",
                "        images.append(img)\n",
                "        \n",
                "        if \"cat\" in filename.lower():\n",
                "            labels.append(0)\n",
                "        elif \"dog\" in filename.lower():\n",
                "            labels.append(1)\n",
                "\n",
                "images = np.array(images, dtype='float32') / 255.0\n",
                "labels = to_categorical(np.array(labels), num_classes=2)\n",
                "\n"
            ]
        },
        {
            "cell_type": "markdown",
            "metadata": {},
            "source": [
                "Se separan los datos en conjunto de entrenamiento (80%) y prueba (20%) manteniendo la proporción de clases (stratify)."
            ]
        },
        {
            "cell_type": "code",
            "execution_count": null,
            "metadata": {},
            "outputs": [],
            "source": [
                "X_train, X_test, y_train, y_test = train_test_split(\n",
                "    images, labels, test_size=0.2, random_state=42, stratify=labels\n",
                ")"
            ]
        },
        {
            "cell_type": "markdown",
            "metadata": {},
            "source": [
                "Construcción del modelo CNN\n",
                "Se crea una red convolucional con tres bloques de convolución y pooling, seguida de capas densas y Dropout para evitar sobreajuste. Se compila con optimizador Adam y función de pérdida categorical_crossentropy."
            ]
        },
        {
            "cell_type": "code",
            "execution_count": null,
            "metadata": {},
            "outputs": [],
            "source": [
                "model = Sequential()\n",
                "\n",
                "# Bloque 1\n",
                "model.add(Conv2D(32, (3,3), activation='relu', input_shape=(128,128,3)))\n",
                "model.add(MaxPool2D((2,2)))\n",
                "\n",
                "# Bloque 2\n",
                "model.add(Conv2D(64, (3,3), activation='relu'))\n",
                "model.add(MaxPool2D((2,2)))\n",
                "\n",
                "# Bloque 3\n",
                "model.add(Conv2D(128, (3,3), activation='relu'))\n",
                "model.add(MaxPool2D((2,2)))\n",
                "\n",
                "# Clasificador\n",
                "model.add(Flatten())\n",
                "model.add(Dense(128, activation='relu'))\n",
                "model.add(Dropout(0.5))\n",
                "model.add(Dense(2, activation='softmax'))\n",
                "\n",
                "model.compile(optimizer='adam', loss='categorical_crossentropy', metrics=['accuracy'])"
            ]
        },
        {
            "cell_type": "markdown",
            "metadata": {},
            "source": [
                "Definición de callbacks\n",
                "\n",
                "Se crean dos callbacks: ModelCheckpoint para guardar el mejor modelo según la validación, y EarlyStopping para detener el entrenamiento si la pérdida de validación no mejora durante 5 épocas."
            ]
        },
        {
            "cell_type": "code",
            "execution_count": null,
            "metadata": {},
            "outputs": [],
            "source": [
                "checkpoint = ModelCheckpoint(\"best_model_light.h5\", monitor='val_accuracy', save_best_only=True, verbose=1)\n",
                "early_stop = EarlyStopping(monitor='val_loss', patience=5, restore_best_weights=True)"
            ]
        },
        {
            "cell_type": "markdown",
            "metadata": {},
            "source": [
                "\n",
                "Entrenamiento del modelo\n",
                "\n",
                "Se entrena la red neuronal con los datos de entrenamiento, usando un 20% para validación, hasta 20 épocas y con batch de 16, aplicando los callbacks definidos para guardar el mejor modelo y detenerse temprano si es necesario."
            ]
        },
        {
            "cell_type": "code",
            "execution_count": null,
            "metadata": {},
            "outputs": [],
            "source": [
                "history = model.fit(\n",
                "    X_train, y_train,\n",
                "    validation_split=0.2,\n",
                "    epochs=20,\n",
                "    batch_size=16,\n",
                "    callbacks=[checkpoint, early_stop]\n",
                ")"
            ]
        },
        {
            "cell_type": "markdown",
            "metadata": {},
            "source": [
                "Se calcula el rendimiento del modelo sobre el conjunto de prueba, mostrando la precisión (accuracy) alcanzada en datos no vistos."
            ]
        },
        {
            "cell_type": "code",
            "execution_count": null,
            "metadata": {},
            "outputs": [],
            "source": [
                "loss, acc = model.evaluate(X_test, y_test)\n",
                "print(f\"✅ Accuracy en test: {acc*100:.2f}%\")"
            ]
        },
        {
            "cell_type": "markdown",
            "metadata": {},
            "source": [
                "Se almacena el modelo entrenado en un archivo .h5 para poder cargarlo y usarlo posteriormente sin necesidad de reentrenar."
            ]
        },
        {
            "cell_type": "code",
            "execution_count": null,
            "metadata": {},
            "outputs": [],
            "source": [
                "model.save(\"final_dogs_vs_cats_light_model.h5\")\n",
                "print(\"Modelo guardado como final_dogs_vs_cats_light_model.h5\")"
            ]
        }
    ],
    "metadata": {
        "kernelspec": {
            "display_name": "Python 3",
            "language": "python",
            "name": "python3"
        },
        "language_info": {
            "codemirror_mode": {
                "name": "ipython",
                "version": 3
            },
            "file_extension": ".py",
            "mimetype": "text/x-python",
            "name": "python",
            "nbconvert_exporter": "python",
            "pygments_lexer": "ipython3",
            "version": "3.10.11"
        },
        "orig_nbformat": 4
    },
    "nbformat": 4,
    "nbformat_minor": 2
}
